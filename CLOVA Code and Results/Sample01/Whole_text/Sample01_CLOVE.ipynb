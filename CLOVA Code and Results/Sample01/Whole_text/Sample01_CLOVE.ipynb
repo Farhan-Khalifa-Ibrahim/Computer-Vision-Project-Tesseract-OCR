{
  "nbformat": 4,
  "nbformat_minor": 0,
  "metadata": {
    "colab": {
      "name": "CLOVA_test.ipynb",
      "provenance": [],
      "collapsed_sections": []
    },
    "kernelspec": {
      "name": "python3",
      "display_name": "Python 3"
    }
  },
  "cells": [
    {
      "cell_type": "code",
      "metadata": {
        "id": "nB6E6RYnyl4d",
        "outputId": "6c191109-6450-4de2-90ef-a57d3594415c",
        "colab": {
          "base_uri": "https://localhost:8080/"
        }
      },
      "source": [
        "from google.colab import drive\n",
        "drive.mount('/content/drive/')"
      ],
      "execution_count": 1,
      "outputs": [
        {
          "output_type": "stream",
          "text": [
            "Drive already mounted at /content/drive/; to attempt to forcibly remount, call drive.mount(\"/content/drive/\", force_remount=True).\n"
          ],
          "name": "stdout"
        }
      ]
    },
    {
      "cell_type": "code",
      "metadata": {
        "id": "k4tmBZmTyn2q",
        "outputId": "4153e705-df2e-4118-f947-958a95390deb",
        "colab": {
          "base_uri": "https://localhost:8080/"
        }
      },
      "source": [
        "cd \"/content/drive/My Drive/CZ4003\""
      ],
      "execution_count": 2,
      "outputs": [
        {
          "output_type": "stream",
          "text": [
            "/content/drive/My Drive/CZ4003\n"
          ],
          "name": "stdout"
        }
      ]
    },
    {
      "cell_type": "markdown",
      "metadata": {
        "id": "fxSgyNoOBl-X"
      },
      "source": [
        "## OCR detection"
      ]
    },
    {
      "cell_type": "code",
      "metadata": {
        "id": "4z39CCsT7zhu"
      },
      "source": [
        "import os\n",
        "import re\n",
        "import cv2\n",
        "import glob\n",
        "from google.colab.patches import cv2_imshow"
      ],
      "execution_count": 3,
      "outputs": []
    },
    {
      "cell_type": "code",
      "metadata": {
        "id": "pbz4XJbpIFOs"
      },
      "source": [
        "if not os.path.exists('./cropped_images'):\n",
        "  os.mkdir('./cropped_images')"
      ],
      "execution_count": 4,
      "outputs": []
    },
    {
      "cell_type": "code",
      "metadata": {
        "id": "t0PuftFbAX9u"
      },
      "source": [
        "# Get files\n",
        "def get_files(folder_name, file_types):\n",
        "  detected_files = []\n",
        "  for file_type in file_types:\n",
        "    print(file_type)\n",
        "    for file in glob.glob(folder_name + f\"/*.{file_type}\"):\n",
        "        detected_files.append(file)\n",
        "  \n",
        "  return sorted(detected_files)\n",
        "\n",
        "def tilted_box_transform(coor):\n",
        "    x = []\n",
        "    y = []\n",
        "    for i in range(len(coor)):\n",
        "        if i % 2 == 0:\n",
        "            x.append(coor[i])\n",
        "        else:\n",
        "            y.append(coor[i])\n",
        "    try:\n",
        "        max_x = max(x)\n",
        "        min_x = min(x)\n",
        "        max_y = max(y)\n",
        "        min_y = min(y)\n",
        "        new_coor = [min_x, min_y, max_x, min_y, max_x, max_y, min_x, max_y]\n",
        "    except ValueError:\n",
        "        return []\n",
        "\n",
        "    return new_coor\n",
        "\n",
        "# Extract coordinates of detected bounding boxes from *.txt files\n",
        "def get_coordinates(file):\n",
        "    coordinates = []\n",
        "    rect = []\n",
        "    file = file.replace(\" \", \"\")\n",
        "    file = list(file.strip().split(\"\\n\"))\n",
        "    if len(file[0]) != 0: \n",
        "        for text in file:\n",
        "            coor = [int(s) for s in text.split(\",\")[:8]] #if s[0].isdigit()]\n",
        "            if text:\n",
        "                coordinates.append(coor)\n",
        "    for i in range(len(coordinates)):\n",
        "        #print(coordinates[i])\n",
        "        coordinates[i] = tilted_box_transform(coordinates[i])\n",
        "    \n",
        "        rect_coor = (coordinates[i][0], coordinates[i][1], coordinates[i][2]-coordinates[i][0], coordinates[i][7]-coordinates[i][1])\n",
        "        rect.append(rect_coor)\n",
        "\n",
        "    return rect"
      ],
      "execution_count": 5,
      "outputs": []
    },
    {
      "cell_type": "code",
      "metadata": {
        "id": "UXBY5Nlq7D9k",
        "outputId": "76594761-a276-41a7-b66d-52710125eb97",
        "colab": {
          "base_uri": "https://localhost:8080/"
        }
      },
      "source": [
        "!python ./CRAFT-pytorch-master/test.py --trained_model=./CRAFT-pytorch-master/craft_mlt_25k.pth --test_folder=./sample_images --cuda False"
      ],
      "execution_count": 6,
      "outputs": [
        {
          "output_type": "stream",
          "text": [
            "Loading weights from checkpoint (./CRAFT-pytorch-master/craft_mlt_25k.pth)\n",
            "elapsed time : 5.668939828872681s\n"
          ],
          "name": "stdout"
        }
      ]
    },
    {
      "cell_type": "code",
      "metadata": {
        "id": "oBt8347-Fhkp"
      },
      "source": [
        "meme_path = \"memes/sample01.png\"\n",
        "meme = cv2.imread(meme_path)"
      ],
      "execution_count": 7,
      "outputs": []
    },
    {
      "cell_type": "code",
      "metadata": {
        "id": "QLxRiTG_JXuC",
        "outputId": "bdc90070-0d90-4457-8b02-4110b7e4a244",
        "colab": {
          "base_uri": "https://localhost:8080/"
        }
      },
      "source": [
        "meme_files = get_files('result', ['txt'])\n",
        "meme_images = get_files('sample_images', ['png','jpg','jpeg'])\n",
        "print(meme_files)\n",
        "print(meme_images)\n",
        "for meme_id in range(len(meme_files)):\n",
        "  meme = cv2.imread(meme_images[meme_id])\n",
        "  with open(meme_files[meme_id], 'r') as f: \n",
        "    gt = f.read()\n",
        "  gt_coor = get_coordinates(gt)\n",
        "\n",
        "  line = 0\n",
        "  gt_coor_new = []\n",
        "  for i in range(len(gt_coor)):\n",
        "    if i != 0:\n",
        "      if abs(gt_coor[i][1]- gt_coor[i-1][1]) > 10:\n",
        "        line += 1 \n",
        "    gt_coor_new.append([line, gt_coor[i]]) \n",
        "\n",
        "  bboxes = [] # [line, (bottom_left_x, bottom_left_y, x_width, y_height)]\n",
        "  for object_id in range(len(gt_coor_new)):\n",
        "    bboxes.append(gt_coor_new[object_id])\n",
        "  bboxes = sorted(bboxes , key=lambda k: [k[0], k[1][0], k[1][1]])\n",
        "\n",
        "  for text_id in range(len(bboxes)):\n",
        "    p1 = (int(bboxes[text_id][1][0]), int(bboxes[text_id][1][1]))\n",
        "    p2 = (int(bboxes[text_id][1][0] + bboxes[text_id][1][2]), int(bboxes[text_id][1][1] + bboxes[text_id][1][3]))\n",
        "    img_crop = meme[p1[1]:p2[1],p1[0]:p2[0]]\n",
        "    save_path = f'cropped_images/crop_meme_{meme_id}_pt_{text_id}.jpg'\n",
        "    cv2.imwrite(save_path, img_crop)"
      ],
      "execution_count": 8,
      "outputs": [
        {
          "output_type": "stream",
          "text": [
            "txt\n",
            "png\n",
            "jpg\n",
            "jpeg\n",
            "['result/res_sample01.txt']\n",
            "['sample_images/sample01.png']\n"
          ],
          "name": "stdout"
        }
      ]
    },
    {
      "cell_type": "code",
      "metadata": {
        "id": "vCnSNsfs8Xsb",
        "outputId": "32a8191b-b0a0-45b4-a720-662dc112e9f7",
        "colab": {
          "base_uri": "https://localhost:8080/"
        }
      },
      "source": [
        "!python ./deep-text-recognition-benchmark-master/demo.py --Transformation TPS --FeatureExtraction ResNet --SequenceModeling BiLSTM --Prediction Attn --image_folder cropped_images --saved_model ./deep-text-recognition-benchmark-master/TPS-ResNet-BiLSTM-Attn-case-sensitive.pth --sensitive"
      ],
      "execution_count": 9,
      "outputs": [
        {
          "output_type": "stream",
          "text": [
            "model input parameters 32 100 20 1 512 256 96 25 TPS ResNet BiLSTM Attn\n",
            "loading pretrained model from ./deep-text-recognition-benchmark-master/TPS-ResNet-BiLSTM-Attn-case-sensitive.pth\n",
            "--------------------------------------------------------------------------------\n",
            "image_path               \tpredicted_labels         \tconfidence score\n",
            "--------------------------------------------------------------------------------\n",
            "cropped_images/crop_meme_0_pt_0.jpg\tParking:                 \t0.9993\n",
            "cropped_images/crop_meme_0_pt_1.jpg\tYou                      \t1.0000\n",
            "cropped_images/crop_meme_0_pt_2.jpg\tmay                      \t1.0000\n",
            "cropped_images/crop_meme_0_pt_3.jpg\tpark                     \t1.0000\n",
            "cropped_images/crop_meme_0_pt_4.jpg\tanywhere                 \t0.9999\n",
            "cropped_images/crop_meme_0_pt_5.jpg\ton                       \t0.9996\n",
            "cropped_images/crop_meme_0_pt_6.jpg\tthe                      \t1.0000\n",
            "cropped_images/crop_meme_0_pt_7.jpg\tcampus                   \t0.9998\n",
            "cropped_images/crop_meme_0_pt_8.jpg\twhere                    \t1.0000\n",
            "cropped_images/crop_meme_0_pt_9.jpg\tthere                    \t1.0000\n",
            "cropped_images/crop_meme_0_pt_10.jpg\tare                      \t1.0000\n",
            "cropped_images/crop_meme_0_pt_11.jpg\tno                       \t0.9998\n",
            "cropped_images/crop_meme_0_pt_12.jpg\tsigns                    \t0.9997\n",
            "cropped_images/crop_meme_0_pt_13.jpg\tprohibiting              \t0.9997\n",
            "cropped_images/crop_meme_0_pt_14.jpg\tpar-                     \t0.9698\n",
            "cropped_images/crop_meme_0_pt_15.jpg\tking.                    \t0.6282\n",
            "cropped_images/crop_meme_0_pt_16.jpg\tKeep                     \t1.0000\n",
            "cropped_images/crop_meme_0_pt_17.jpg\tin                       \t0.9998\n",
            "cropped_images/crop_meme_0_pt_18.jpg\tmind                     \t1.0000\n",
            "cropped_images/crop_meme_0_pt_19.jpg\tthe                      \t1.0000\n",
            "cropped_images/crop_meme_0_pt_20.jpg\tcarpool                  \t0.9997\n",
            "cropped_images/crop_meme_0_pt_21.jpg\thours                    \t0.9999\n",
            "cropped_images/crop_meme_0_pt_22.jpg\tand                      \t1.0000\n",
            "cropped_images/crop_meme_0_pt_23.jpg\tpark                     \t1.0000\n",
            "cropped_images/crop_meme_0_pt_24.jpg\taccordingly              \t0.9999\n",
            "cropped_images/crop_meme_0_pt_25.jpg\tso                       \t0.9956\n",
            "cropped_images/crop_meme_0_pt_26.jpg\tyou                      \t1.0000\n",
            "cropped_images/crop_meme_0_pt_27.jpg\tdo                       \t1.0000\n",
            "cropped_images/crop_meme_0_pt_28.jpg\tnot                      \t1.0000\n",
            "cropped_images/crop_meme_0_pt_29.jpg\tget                      \t1.0000\n",
            "cropped_images/crop_meme_0_pt_30.jpg\tblocked                  \t0.9998\n",
            "cropped_images/crop_meme_0_pt_31.jpg\tin                       \t0.9998\n",
            "cropped_images/crop_meme_0_pt_32.jpg\tthe                      \t1.0000\n",
            "cropped_images/crop_meme_0_pt_33.jpg\tafternoon                \t0.9993\n",
            "cropped_images/crop_meme_0_pt_34.jpg\tinappropriate            \t0.9995\n",
            "cropped_images/crop_meme_0_pt_35.jpg\tthat                     \t1.0000\n",
            "cropped_images/crop_meme_0_pt_36.jpg\tUnder                    \t0.9999\n",
            "cropped_images/crop_meme_0_pt_37.jpg\tyou                      \t1.0000\n",
            "cropped_images/crop_meme_0_pt_38.jpg\tthey                     \t1.0000\n",
            "cropped_images/crop_meme_0_pt_39.jpg\tadhere                   \t0.9999\n",
            "cropped_images/crop_meme_0_pt_40.jpg\tSchool                   \t0.9998\n",
            "cropped_images/crop_meme_0_pt_41.jpg\tmay                      \t1.0000\n",
            "cropped_images/crop_meme_0_pt_42.jpg\tto                       \t1.0000\n",
            "cropped_images/crop_meme_0_pt_43.jpg\tto                       \t1.0000\n",
            "cropped_images/crop_meme_0_pt_44.jpg\tour                      \t0.9998\n",
            "cropped_images/crop_meme_0_pt_45.jpg\tbe                       \t1.0000\n",
            "cropped_images/crop_meme_0_pt_46.jpg\tAge                      \t0.9999\n",
            "cropped_images/crop_meme_0_pt_47.jpg\thave                     \t1.0000\n",
            "cropped_images/crop_meme_0_pt_48.jpg\tinvited                  \t0.9995\n",
            "cropped_images/crop_meme_0_pt_49.jpg\tChildren.                \t0.9461\n",
            "cropped_images/crop_meme_0_pt_50.jpg\tpolicy                   \t0.9999\n",
            "cropped_images/crop_meme_0_pt_51.jpg\tthem                     \t1.0000\n",
            "cropped_images/crop_meme_0_pt_52.jpg\tor                       \t0.9996\n",
            "cropped_images/crop_meme_0_pt_53.jpg\tfor                      \t1.0000\n",
            "cropped_images/crop_meme_0_pt_54.jpg\tcan                      \t0.9998\n",
            "cropped_images/crop_meme_0_pt_55.jpg\ton                       \t0.9997\n",
            "cropped_images/crop_meme_0_pt_56.jpg\tWhile                    \t0.9999\n",
            "cropped_images/crop_meme_0_pt_57.jpg\tthe                      \t1.0000\n",
            "cropped_images/crop_meme_0_pt_58.jpg\tcampus                   \t0.9999\n",
            "cropped_images/crop_meme_0_pt_59.jpg\taccompany                \t0.9997\n",
            "cropped_images/crop_meme_0_pt_60.jpg\tbenefit                  \t0.9988\n",
            "cropped_images/crop_meme_0_pt_61.jpg\twe                       \t0.9999\n",
            "cropped_images/crop_meme_0_pt_62.jpg\tlove                     \t0.9997\n",
            "cropped_images/crop_meme_0_pt_63.jpg\tduring                   \t1.0000\n",
            "cropped_images/crop_meme_0_pt_64.jpg\tof                       \t1.0000\n",
            "cropped_images/crop_meme_0_pt_65.jpg\tthe                      \t1.0000\n",
            "cropped_images/crop_meme_0_pt_66.jpg\ta                        \t1.0000\n",
            "cropped_images/crop_meme_0_pt_67.jpg\tthe                      \t1.0000\n",
            "cropped_images/crop_meme_0_pt_68.jpg\tparent                   \t1.0000\n",
            "cropped_images/crop_meme_0_pt_69.jpg\tschool                   \t0.9997\n",
            "cropped_images/crop_meme_0_pt_70.jpg\tyounger                  \t1.0000\n",
            "cropped_images/crop_meme_0_pt_71.jpg\tstudents                 \t0.9998\n",
            "cropped_images/crop_meme_0_pt_72.jpg\tvolunteer,               \t0.9589\n",
            "cropped_images/crop_meme_0_pt_73.jpg\thours.                   \t0.9941\n",
            "cropped_images/crop_meme_0_pt_74.jpg\tchildren,                \t0.9996\n",
            "cropped_images/crop_meme_0_pt_75.jpg\tand                      \t1.0000\n",
            "cropped_images/crop_meme_0_pt_76.jpg\tstaff.                   \t0.7211\n",
            "cropped_images/crop_meme_0_pt_77.jpg\tThere                    \t1.0000\n",
            "cropped_images/crop_meme_0_pt_78.jpg\tbut                      \t0.9999\n",
            "cropped_images/crop_meme_0_pt_79.jpg\tit                       \t0.9998\n",
            "cropped_images/crop_meme_0_pt_80.jpg\tcan                      \t0.9996\n",
            "cropped_images/crop_meme_0_pt_81.jpg\totherwise                \t0.9997\n",
            "cropped_images/crop_meme_0_pt_82.jpg\tmay                      \t1.0000\n",
            "cropped_images/crop_meme_0_pt_83.jpg\tbe                       \t1.0000\n",
            "cropped_images/crop_meme_0_pt_84.jpg\tbe                       \t1.0000\n",
            "cropped_images/crop_meme_0_pt_85.jpg\tdisruptive               \t0.9998\n",
            "cropped_images/crop_meme_0_pt_86.jpg\tspecial                  \t0.9998\n",
            "cropped_images/crop_meme_0_pt_87.jpg\twe                       \t0.9999\n",
            "cropped_images/crop_meme_0_pt_88.jpg\task                      \t1.0000\n",
            "cropped_images/crop_meme_0_pt_89.jpg\ttimes                    \t1.0000\n",
            "cropped_images/crop_meme_0_pt_90.jpg\tand                      \t1.0000\n",
            "cropped_images/crop_meme_0_pt_91.jpg\tthat                     \t1.0000\n"
          ],
          "name": "stdout"
        }
      ]
    },
    {
      "cell_type": "code",
      "metadata": {
        "id": "Ao6w8hlD_Yhy"
      },
      "source": [
        "word_cf_dict = {} # id: [word, confidence_score]\n",
        "sentence_dict = {}\n",
        "with open(\"./log_demo_result.txt\", 'r') as f: \n",
        "  reg = f.read()\n",
        "reg = list(reg.strip().split(\"\\n\"))\n",
        "words = []\n",
        "sentence = ''\n",
        "for text in reg[3:]:\n",
        "  text_id_old = text_id\n",
        "  text_list = text.split(\"\\t\")\n",
        "  file_name = text_list[0]\n",
        "  img_no = re.search('meme_(.+?)_', file_name)\n",
        "  if img_no:\n",
        "      text_id = int(img_no.group(1))\n",
        "  if text_id != text_id_old:\n",
        "    words = []\n",
        "    sentence = ''\n",
        "  # print(type(text_list[1]))\n",
        "  word = text_list[1]\n",
        "  cf = float(text_list[2])\n",
        "  if text:\n",
        "    word = word.strip()\n",
        "    words.append([word, cf])\n",
        "    sentence += word + ' '\n",
        "  word_cf_dict[text_id] = words \n",
        "  sentence_dict[text_id] = sentence"
      ],
      "execution_count": 10,
      "outputs": []
    },
    {
      "cell_type": "code",
      "metadata": {
        "id": "ubkEgFfmnWcO",
        "outputId": "a46ba220-cd33-47c9-e5e7-634187a554fa",
        "colab": {
          "base_uri": "https://localhost:8080/"
        }
      },
      "source": [
        "sentence_dict"
      ],
      "execution_count": 11,
      "outputs": [
        {
          "output_type": "execute_result",
          "data": {
            "text/plain": [
              "{0: 'Parking: You may park anywhere on the campus where there are no signs prohibiting par- king. Keep in mind the carpool hours and park accordingly so you do not get blocked in the afternoon inappropriate that Under you they adhere School may to to our be Age have invited Children. policy them or for can on While the campus accompany benefit we love during of the a the parent school younger students volunteer, hours. children, and staff. There but it can otherwise may be be disruptive special we ask times and that '}"
            ]
          },
          "metadata": {
            "tags": []
          },
          "execution_count": 11
        }
      ]
    },
    {
      "cell_type": "code",
      "metadata": {
        "id": "yJ52PWTM6dpx"
      },
      "source": [
        ""
      ],
      "execution_count": null,
      "outputs": []
    }
  ]
}